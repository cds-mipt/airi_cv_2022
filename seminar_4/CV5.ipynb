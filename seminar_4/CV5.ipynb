{
  "nbformat": 4,
  "nbformat_minor": 0,
  "metadata": {
    "colab": {
      "name": "CV5.ipynb",
      "provenance": [],
      "collapsed_sections": []
    },
    "kernelspec": {
      "name": "python3",
      "display_name": "Python 3"
    },
    "accelerator": "GPU",
    "gpuClass": "standard"
  },
  "cells": [
    {
      "cell_type": "markdown",
      "source": [
        "Authors: https://github.com/nikitakaraevv/pointnet"
      ],
      "metadata": {
        "id": "USB0lVeFP_Xc"
      }
    },
    {
      "cell_type": "markdown",
      "metadata": {
        "id": "NpvL68OfBEQC"
      },
      "source": [
        "# PointNetSeg"
      ]
    },
    {
      "cell_type": "markdown",
      "metadata": {
        "id": "rbPm1WS7UWe6"
      },
      "source": [
        "This is an implementation of [PointNet: Deep Learning on Point Sets for 3D Classification and Segmentation](https://arxiv.org/abs/1612.00593) using PyTorch.\n"
      ]
    },
    {
      "cell_type": "code",
      "source": [
        "import torch\n",
        "import torch.nn as nn\n",
        "import numpy as np\n",
        "import torch.nn.functional as F\n",
        "\n",
        "class Tnet(nn.Module):\n",
        "   def __init__(self, k=3):\n",
        "      super().__init__()\n",
        "      self.k=k\n",
        "      self.conv1 = nn.Conv1d(k,64,1)\n",
        "      self.conv2 = nn.Conv1d(64,128,1)\n",
        "      self.conv3 = nn.Conv1d(128,1024,1)\n",
        "      self.fc1 = nn.Linear(1024,512)\n",
        "      self.fc2 = nn.Linear(512,256)\n",
        "      self.fc3 = nn.Linear(256,k*k)\n",
        "\n",
        "      self.bn1 = nn.BatchNorm1d(64)\n",
        "      self.bn2 = nn.BatchNorm1d(128)\n",
        "      self.bn3 = nn.BatchNorm1d(1024)\n",
        "      self.bn4 = nn.BatchNorm1d(512)\n",
        "      self.bn5 = nn.BatchNorm1d(256)\n",
        "       \n",
        "\n",
        "   def forward(self, input):\n",
        "      # input.shape == (bs,n,3)\n",
        "      bs = input.size(0)\n",
        "      xb = F.relu(self.bn1(self.conv1(input)))\n",
        "      xb = F.relu(self.bn2(self.conv2(xb)))\n",
        "      xb = F.relu(self.bn3(self.conv3(xb)))\n",
        "      pool = nn.MaxPool1d(xb.size(-1))(xb)\n",
        "      flat = nn.Flatten(1)(pool)\n",
        "      xb = F.relu(self.bn4(self.fc1(flat)))\n",
        "      xb = F.relu(self.bn5(self.fc2(xb)))\n",
        "      \n",
        "      #initialize as identity\n",
        "      init = torch.eye(self.k, requires_grad=True).repeat(bs,1,1)\n",
        "      if xb.is_cuda:\n",
        "        init=init.cuda()\n",
        "      matrix = self.fc3(xb).view(-1,self.k,self.k) + init\n",
        "      return matrix\n",
        "\n",
        "\n",
        "class Transform(nn.Module):\n",
        "   def __init__(self):\n",
        "        super().__init__()\n",
        "        self.input_transform = Tnet(k=3)\n",
        "        self.feature_transform = Tnet(k=128)\n",
        "        self.fc1 = nn.Conv1d(3,64,1)\n",
        "        self.fc2 = nn.Conv1d(64,128,1) \n",
        "        self.fc3 = nn.Conv1d(128,128,1)\n",
        "        self.fc4 = nn.Conv1d(128,512,1)\n",
        "        self.fc5 = nn.Conv1d(512,2048,1)\n",
        "\n",
        "        \n",
        "        self.bn1 = nn.BatchNorm1d(64)\n",
        "        self.bn2 = nn.BatchNorm1d(128)\n",
        "        self.bn3 = nn.BatchNorm1d(128)\n",
        "        self.bn4 = nn.BatchNorm1d(512)\n",
        "        self.bn5 = nn.BatchNorm1d(2048)\n",
        "\n",
        "   def forward(self, input):\n",
        "        n_pts = input.size()[2]\n",
        "        matrix3x3 = self.input_transform(input)\n",
        "        xb = torch.bmm(torch.transpose(input,1,2), matrix3x3).transpose(1,2)\n",
        "        outs = []\n",
        "        \n",
        "        out1 = F.relu(self.bn1(self.fc1(xb)))\n",
        "        outs.append(out1)\n",
        "        out2 = F.relu(self.bn2(self.fc2(out1)))\n",
        "        outs.append(out2)\n",
        "        out3 = F.relu(self.bn3(self.fc3(out2)))\n",
        "        outs.append(out3)\n",
        "        matrix128x128 = self.feature_transform(out3)\n",
        "        \n",
        "        out4 = torch.bmm(torch.transpose(out3,1,2), matrix128x128).transpose(1,2) \n",
        "        outs.append(out4)\n",
        "        out5 = F.relu(self.bn4(self.fc4(out4)))\n",
        "        outs.append(out5)\n",
        "       \n",
        "        xb = self.bn5(self.fc5(out5))\n",
        "        \n",
        "        xb = nn.MaxPool1d(xb.size(-1))(xb)\n",
        "        out6 = nn.Flatten(1)(xb).repeat(n_pts,1,1).transpose(0,2).transpose(0,1)#.repeat(1, 1, n_pts)\n",
        "        outs.append(out6)\n",
        "        \n",
        "        \n",
        "        return outs, matrix3x3, matrix128x128\n",
        "\n",
        "\n",
        "class PointNetSeg(nn.Module):\n",
        "    def __init__(self, classes = 10):\n",
        "        super().__init__()\n",
        "        self.transform = Transform()\n",
        "\n",
        "        self.fc1 = nn.Conv1d(3008,256,1) \n",
        "        self.fc2 = nn.Conv1d(256,256,1) \n",
        "        self.fc3 = nn.Conv1d(256,128,1) \n",
        "        self.fc4 = nn.Conv1d(128,4,1) \n",
        "        \n",
        "\n",
        "        self.bn1 = nn.BatchNorm1d(256)\n",
        "        self.bn2 = nn.BatchNorm1d(256)\n",
        "        \n",
        "        self.bn3 = nn.BatchNorm1d(128)\n",
        "        self.bn4 = nn.BatchNorm1d(4)\n",
        "        \n",
        "        self.logsoftmax = nn.LogSoftmax(dim=1)\n",
        "        \n",
        "\n",
        "    def forward(self, input):\n",
        "        inputs, matrix3x3, matrix128x128 = self.transform(input)\n",
        "        stack = torch.cat(inputs,1)\n",
        "        \n",
        "        xb = F.relu(self.bn1(self.fc1(stack)))\n",
        "       \n",
        "        xb = F.relu(self.bn2(self.fc2(xb)))\n",
        "    \n",
        "        xb = F.relu(self.bn3(self.fc3(xb)))\n",
        "        \n",
        "        output = F.relu(self.bn4(self.fc4(xb)))\n",
        "        \n",
        "        return self.logsoftmax(output), matrix3x3, matrix128x128"
      ],
      "metadata": {
        "id": "-K83k38KX7PB"
      },
      "execution_count": 2,
      "outputs": []
    },
    {
      "cell_type": "code",
      "source": [
        ""
      ],
      "metadata": {
        "id": "Lv-fVM1yY8ty"
      },
      "execution_count": null,
      "outputs": []
    },
    {
      "cell_type": "markdown",
      "source": [
        "# SPVNAS"
      ],
      "metadata": {
        "id": "5_VCbSAdZBx6"
      }
    },
    {
      "cell_type": "markdown",
      "source": [
        "[im2col vs hash tables](https://medium.com/geekculture/3d-sparse-sabmanifold-convolutions-eaa427b3a196)"
      ],
      "metadata": {
        "id": "yWeZf2jSji1o"
      }
    },
    {
      "cell_type": "markdown",
      "source": [
        "https://github.com/mit-han-lab/torchsparse"
      ],
      "metadata": {
        "id": "LcAp_-tYiVgL"
      }
    },
    {
      "cell_type": "markdown",
      "source": [
        "https://github.com/mit-han-lab/spvnas"
      ],
      "metadata": {
        "id": "7fWB4qIKZEDh"
      }
    }
  ]
}